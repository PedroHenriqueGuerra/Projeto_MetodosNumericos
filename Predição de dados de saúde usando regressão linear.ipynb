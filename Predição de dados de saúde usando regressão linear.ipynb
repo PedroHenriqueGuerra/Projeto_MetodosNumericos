{
 "cells": [
  {
   "cell_type": "markdown",
   "metadata": {
    "id": "kkA1YYQH3wKd"
   },
   "source": [
    "## <center>__MÉTODOS NUMÉRICOS__</center>\n",
    "## <center>__PROJETO DA UNIDADE 2<br>Predição de dados de saúde usando regressão linear__</center>\n",
    "\n",
    "### <center>ALUNO:Pedro Henrique Guerra de Abreu</center>"
   ]
  },
  {
   "cell_type": "markdown",
   "metadata": {
    "id": "uQuvOrSL3wKk"
   },
   "source": [
    "#### **1. INTRODUÇÃO**"
   ]
  },
  {
   "cell_type": "markdown",
   "metadata": {
    "id": "RYr9WY_N3wKk"
   },
   "source": [
    "A predição de dados tem como objetivo compreender o comportamento dos dados existente e gerar regras de predição para outras entradas de dados, e no nosso contexto iremos aplicar a regressão linear para predizer os dados do problema em questão. A regressão linear é uma função de primeiro grau, que busca entender o padrão de um conjunto de dados que possa ser descrito por essa função com uma variável. E para esse projeto será usado um conjunto de dados de pacientes com diabetes que possuem 442 amostra e 10 variáveis.\n",
    "\n",
    "Durante o projeto iremos utilizar técnicas como: Regressão polinomial, caso especial de regressão linear, onde criamos recursos polinomiais antes da criação da regressão. Numba, projetado para ser utilizado como matrizes e funções NumPy, gera códigos especializados para distintos tipos de dados de array. Regularização, ajuda a resolver o problema de ajuste no machine learning. Entre outros métodos que acompanharemos durante a implementação."
   ]
  },
  {
   "cell_type": "markdown",
   "metadata": {
    "id": "m5KLYA9n3wKk"
   },
   "source": [
    "#### **2. DESCRIÇÃO DO PROBLEMA**"
   ]
  },
  {
   "cell_type": "markdown",
   "metadata": {
    "id": "3EprO85b3wKl"
   },
   "source": [
    "Vários estudos foram desenvolvidos na área de aprendizado de máquina aplicado à saúde. Esse crescimento se da devido ao aumento da demanda por formas que possam facilitar os diagnósticos do paciente e diminuir o tempo dos médicos em suas prescrições.\n",
    "\n",
    "E com o avanço constante da tecnologia é cada dia mais real a possibilidade desses diagnósticos serem feitos de forma computacional baseado em outros dados e utilizando tecnicas de aprendizado de máquina.\n",
    "\n",
    "No Brasil foram desenvolvidos modelos preditivos de diabetes não diagnosticada a partir de 12.447 adultos, onde utilizaram cinco algoritimos de aprendizado de máquina. Como resultado eles obteram 11% de diabetes não diagnosticada. No conjunto de dados de teste 403 pessoas tinham diabetes não diagnoticada e 274 foram apontados como casos positivos."
   ]
  },
  {
   "cell_type": "markdown",
   "metadata": {
    "id": "OqUTO7xk3wKl"
   },
   "source": [
    "#### **3. MÉTODOS APLICADOS À SOLUÇÃO**"
   ]
  },
  {
   "cell_type": "markdown",
   "metadata": {
    "id": "yik_C-OC3wKl"
   },
   "source": [
    "Como principal método temos a Regressão Linear, que basicamente gera uma equação que descreve a relação entre uma ou mais variávies preditoras e a variável de resposta. Esse método encontra a reta que melhor representa o conjunto de entrada com a variável resposta. Podemos aplicar a regressão linear em diferentes contextos, como na análise de evasão escolar, variação da frequência cardíaca, valor de vendas de mercados, entre outras várias aplicações.\n",
    "\n",
    "Também fazemos uso da regressão Polinomial partindo da ideia que podemos aproximar qualquer função com um polinômio. A ideia é bastante simples, iremos utilizar as variávis existentes para construir novas variáveis polinomiais e a regressão terá uma melhor aproximação de acordo com o grau do polinômio.\n",
    "\n",
    "Para otimizar nosso código utilizamos a vetorização e o numba, pois ao usar uma implementação vetorizada podemos tornar o processo muito mais rápido em comparação com a nossa implementação convencional e para isso utilizamos a biblioteca Numpy. Já o numba é um compilador JIT que converte um subconjunto de Python e NumPy em um código de máquina mais rápido usando LLVM.\n",
    "\n",
    "E a regularização ajuda a resolver o problema de ajuste no aprendizado de máquina. O modelo complexo não é tão bom desempenho nos dados de teste, já o modelo simples é a generalização muito pobre dos dados. É necessário optar por um dos modelos e a regularização ajuda a escolher a complexidade do modelo preferido afim que ele seja melhor nas previsões."
   ]
  },
  {
   "cell_type": "markdown",
   "metadata": {
    "id": "CFezB_ok3wKl"
   },
   "source": [
    "#### **4. IMPLEMENTAÇÃO**"
   ]
  },
  {
   "cell_type": "markdown",
   "metadata": {
    "id": "teeLUW_LnhJc"
   },
   "source": [
    "##### **Importações**"
   ]
  },
  {
   "cell_type": "code",
   "execution_count": 1,
   "metadata": {
    "id": "Ara2wKDW7u20"
   },
   "outputs": [],
   "source": [
    "from sklearn import datasets, linear_model, metrics \n",
    "from sklearn.model_selection import train_test_split\n",
    "from sklearn.preprocessing import PolynomialFeatures\n",
    "import math, scipy, numpy as np\n",
    "from scipy import linalg"
   ]
  },
  {
   "cell_type": "markdown",
   "metadata": {
    "id": "jrgKY9s_91wz"
   },
   "source": [
    "##### **Dataset Diabetes**"
   ]
  },
  {
   "cell_type": "code",
   "execution_count": 2,
   "metadata": {
    "id": "xUh9GaC088sc"
   },
   "outputs": [],
   "source": [
    "#carregando dados\n",
    "data = datasets.load_diabetes() "
   ]
  },
  {
   "cell_type": "code",
   "execution_count": 3,
   "metadata": {
    "id": "d4At-0YP_Ia_"
   },
   "outputs": [],
   "source": [
    "#recursos que serão utilizados na analise.\n",
    "feature_names=['age', 'sex', 'bmi', 'bp', 's1', 's2', 's3', 's4', 's5', 's6']"
   ]
  },
  {
   "cell_type": "code",
   "execution_count": 4,
   "metadata": {
    "id": "A6I8GgW3_MyK"
   },
   "outputs": [],
   "source": [
    "#divide em treino e teste, com a proporção 80% de treino e 20% teste\n",
    "trn,test,y_trn,y_test = train_test_split(data.data, data.target, test_size=0.2)"
   ]
  },
  {
   "cell_type": "code",
   "execution_count": 5,
   "metadata": {
    "colab": {
     "base_uri": "https://localhost:8080/"
    },
    "executionInfo": {
     "elapsed": 1111,
     "status": "ok",
     "timestamp": 1620455523759,
     "user": {
      "displayName": "Marcelo Filho",
      "photoUrl": "",
      "userId": "15483881631954904685"
     },
     "user_tz": 180
    },
    "id": "uypHX8S7_Qn8",
    "outputId": "9003a42a-0240-446e-df95-40c61e76d28b"
   },
   "outputs": [
    {
     "data": {
      "text/plain": [
       "((353, 10), (89, 10))"
      ]
     },
     "execution_count": 5,
     "metadata": {},
     "output_type": "execute_result"
    }
   ],
   "source": [
    "#printa o numero de elementos presente nas dimensão da matriz\n",
    "trn.shape, test.shape"
   ]
  },
  {
   "cell_type": "markdown",
   "metadata": {
    "id": "K7PDuFCsIDP6"
   },
   "source": [
    "##### **Regressão Linear com Scikit Learn**"
   ]
  },
  {
   "cell_type": "code",
   "execution_count": 6,
   "metadata": {
    "colab": {
     "base_uri": "https://localhost:8080/"
    },
    "executionInfo": {
     "elapsed": 4392,
     "status": "ok",
     "timestamp": 1620455527048,
     "user": {
      "displayName": "Marcelo Filho",
      "photoUrl": "",
      "userId": "15483881631954904685"
     },
     "user_tz": 180
    },
    "id": "7V81KH5YIH_r",
    "outputId": "528e9b14-a7a3-4ce2-95bb-2a350d388df1"
   },
   "outputs": [
    {
     "name": "stdout",
     "output_type": "stream",
     "text": [
      "434 µs ± 13 µs per loop (mean ± std. dev. of 7 runs, 1000 loops each)\n"
     ]
    }
   ],
   "source": [
    "regr = linear_model.LinearRegression()\n",
    "#treina e calcula tempo de execucao\n",
    "%timeit regr.fit(trn, y_trn)"
   ]
  },
  {
   "cell_type": "code",
   "execution_count": 7,
   "metadata": {
    "id": "hI3bTxwxISon"
   },
   "outputs": [],
   "source": [
    "#mostra a predição do modelo\n",
    "pred = regr.predict(test)"
   ]
  },
  {
   "cell_type": "code",
   "execution_count": 8,
   "metadata": {
    "id": "Sx6V5joLIUbS"
   },
   "outputs": [],
   "source": [
    "#função responsável por verificar metricas de erros do modelo\n",
    "def regr_metrics(act, pred):\n",
    "    return (math.sqrt(metrics.mean_squared_error(act, pred)), \n",
    "     metrics.mean_absolute_error(act, pred))"
   ]
  },
  {
   "cell_type": "code",
   "execution_count": 9,
   "metadata": {
    "colab": {
     "base_uri": "https://localhost:8080/"
    },
    "executionInfo": {
     "elapsed": 4386,
     "status": "ok",
     "timestamp": 1620455527054,
     "user": {
      "displayName": "Marcelo Filho",
      "photoUrl": "",
      "userId": "15483881631954904685"
     },
     "user_tz": 180
    },
    "id": "ratcM78CIW5q",
    "outputId": "db17533f-dd12-45e9-a6cc-e8791c0c128f"
   },
   "outputs": [
    {
     "data": {
      "text/plain": [
       "(47.950339619338905, 38.197638602170876)"
      ]
     },
     "execution_count": 9,
     "metadata": {},
     "output_type": "execute_result"
    }
   ],
   "source": [
    "regr_metrics(y_test, regr.predict(test))"
   ]
  },
  {
   "cell_type": "markdown",
   "metadata": {
    "id": "HGxM7pNIIrZB"
   },
   "source": [
    "Regressão polinomial é um caso especial da regressão linear, pois criamos alguns recursos polinomiais antes de criar a regressão."
   ]
  },
  {
   "cell_type": "code",
   "execution_count": 10,
   "metadata": {
    "colab": {
     "base_uri": "https://localhost:8080/"
    },
    "executionInfo": {
     "elapsed": 4379,
     "status": "ok",
     "timestamp": 1620455527055,
     "user": {
      "displayName": "Marcelo Filho",
      "photoUrl": "",
      "userId": "15483881631954904685"
     },
     "user_tz": 180
    },
    "id": "0MnpcVU5IZZm",
    "outputId": "b7383aeb-6bf0-4ec1-92e3-3400f0cd7ca2"
   },
   "outputs": [
    {
     "data": {
      "text/plain": [
       "(353, 10)"
      ]
     },
     "execution_count": 10,
     "metadata": {},
     "output_type": "execute_result"
    }
   ],
   "source": [
    "trn.shape"
   ]
  },
  {
   "cell_type": "code",
   "execution_count": 11,
   "metadata": {
    "id": "IqtaYGWeIben"
   },
   "outputs": [],
   "source": [
    "poly = PolynomialFeatures(include_bias=False)"
   ]
  },
  {
   "cell_type": "code",
   "execution_count": 12,
   "metadata": {
    "id": "ZGbyiOrKI8Jf"
   },
   "outputs": [],
   "source": [
    "#treina os elementos\n",
    "trn_feat = poly.fit_transform(trn)"
   ]
  },
  {
   "cell_type": "code",
   "execution_count": 13,
   "metadata": {
    "colab": {
     "base_uri": "https://localhost:8080/",
     "height": 69
    },
    "executionInfo": {
     "elapsed": 4369,
     "status": "ok",
     "timestamp": 1620455527058,
     "user": {
      "displayName": "Marcelo Filho",
      "photoUrl": "",
      "userId": "15483881631954904685"
     },
     "user_tz": 180
    },
    "id": "H4cXtEG9I_qO",
    "outputId": "89d5dc8a-5f7f-4065-b786-3b51385cb560"
   },
   "outputs": [
    {
     "data": {
      "text/plain": [
       "'age, sex, bmi, bp, s1, s2, s3, s4, s5, s6, age^2, age sex, age bmi, age bp, age s1, age s2, age s3, age s4, age s5, age s6, sex^2, sex bmi, sex bp, sex s1, sex s2, sex s3, sex s4, sex s5, sex s6, bmi^2, bmi bp, bmi s1, bmi s2, bmi s3, bmi s4, bmi s5, bmi s6, bp^2, bp s1, bp s2, bp s3, bp s4, bp s5, bp s6, s1^2, s1 s2, s1 s3, s1 s4, s1 s5, s1 s6, s2^2, s2 s3, s2 s4, s2 s5, s2 s6, s3^2, s3 s4, s3 s5, s3 s6, s4^2, s4 s5, s4 s6, s5^2, s5 s6, s6^2'"
      ]
     },
     "execution_count": 13,
     "metadata": {},
     "output_type": "execute_result"
    }
   ],
   "source": [
    "#adiciona tudo a uma string usando a \",\" como separador\n",
    "', '.join(poly.get_feature_names(feature_names))"
   ]
  },
  {
   "cell_type": "code",
   "execution_count": 14,
   "metadata": {
    "colab": {
     "base_uri": "https://localhost:8080/"
    },
    "executionInfo": {
     "elapsed": 4359,
     "status": "ok",
     "timestamp": 1620455527059,
     "user": {
      "displayName": "Marcelo Filho",
      "photoUrl": "",
      "userId": "15483881631954904685"
     },
     "user_tz": 180
    },
    "id": "VAtfwYu_JEEp",
    "outputId": "abf55f6f-3ce6-4254-e927-329577a468cd"
   },
   "outputs": [
    {
     "data": {
      "text/plain": [
       "(353, 65)"
      ]
     },
     "execution_count": 14,
     "metadata": {},
     "output_type": "execute_result"
    }
   ],
   "source": [
    "trn_feat.shape"
   ]
  },
  {
   "cell_type": "code",
   "execution_count": 15,
   "metadata": {
    "colab": {
     "base_uri": "https://localhost:8080/"
    },
    "executionInfo": {
     "elapsed": 4350,
     "status": "ok",
     "timestamp": 1620455527059,
     "user": {
      "displayName": "Marcelo Filho",
      "photoUrl": "",
      "userId": "15483881631954904685"
     },
     "user_tz": 180
    },
    "id": "K1wlL969JFb-",
    "outputId": "557d9751-7884-4875-c2b5-40c36e07dc54"
   },
   "outputs": [
    {
     "data": {
      "text/plain": [
       "LinearRegression()"
      ]
     },
     "execution_count": 15,
     "metadata": {},
     "output_type": "execute_result"
    }
   ],
   "source": [
    "#treino utilizando o regressão linear\n",
    "regr.fit(trn_feat, y_trn)"
   ]
  },
  {
   "cell_type": "code",
   "execution_count": 16,
   "metadata": {
    "colab": {
     "base_uri": "https://localhost:8080/"
    },
    "executionInfo": {
     "elapsed": 4343,
     "status": "ok",
     "timestamp": 1620455527060,
     "user": {
      "displayName": "Marcelo Filho",
      "photoUrl": "",
      "userId": "15483881631954904685"
     },
     "user_tz": 180
    },
    "id": "9EcNpjJBJIaX",
    "outputId": "d2c813cd-e297-4016-e037-2904ec6322bf"
   },
   "outputs": [
    {
     "data": {
      "text/plain": [
       "(53.871288831807355, 41.62646848183116)"
      ]
     },
     "execution_count": 16,
     "metadata": {},
     "output_type": "execute_result"
    }
   ],
   "source": [
    "#verifica a norma quadrada média e o erro absoluto medio.\n",
    "regr_metrics(y_test, regr.predict(poly.fit_transform(test)))"
   ]
  },
  {
   "cell_type": "code",
   "execution_count": 17,
   "metadata": {
    "colab": {
     "base_uri": "https://localhost:8080/"
    },
    "executionInfo": {
     "elapsed": 6272,
     "status": "ok",
     "timestamp": 1620455528997,
     "user": {
      "displayName": "Marcelo Filho",
      "photoUrl": "",
      "userId": "15483881631954904685"
     },
     "user_tz": 180
    },
    "id": "r92D8QoQJJ1d",
    "outputId": "10d89efb-4956-45d0-86e2-3e9164d947b1"
   },
   "outputs": [
    {
     "name": "stdout",
     "output_type": "stream",
     "text": [
      "244 µs ± 5.55 µs per loop (mean ± std. dev. of 7 runs, 1000 loops each)\n"
     ]
    }
   ],
   "source": [
    "%timeit poly.fit_transform(trn)"
   ]
  },
  {
   "cell_type": "markdown",
   "metadata": {
    "id": "z7xChItqfgQ5"
   },
   "source": [
    "##### **Experimentos com vetorização e códigos nativos**"
   ]
  },
  {
   "cell_type": "markdown",
   "metadata": {
    "id": "6WzhC6DKTmxc"
   },
   "source": [
    "Experimentos com vetorização e códigos nativos"
   ]
  },
  {
   "cell_type": "code",
   "execution_count": 18,
   "metadata": {
    "id": "TlUuhyXmTtjA"
   },
   "outputs": [],
   "source": [
    "%matplotlib inline"
   ]
  },
  {
   "cell_type": "code",
   "execution_count": 19,
   "metadata": {
    "id": "ZqlRKJmucSZk"
   },
   "outputs": [],
   "source": [
    "import math, numpy as np, matplotlib.pyplot as plt\n",
    "from scipy import ndimage\n",
    "from numba import jit, vectorize, guvectorize, cuda, float32, void, float64"
   ]
  },
  {
   "cell_type": "markdown",
   "metadata": {
    "id": "O4FXyG06nnlq"
   },
   "source": [
    "A utilização dessas bibliotecas vão acelerar o processo de vetorização."
   ]
  },
  {
   "cell_type": "code",
   "execution_count": 20,
   "metadata": {
    "id": "y2ATLyBmdPPs"
   },
   "outputs": [],
   "source": [
    "def proc_python(xx,yy):\n",
    "    zz = np.zeros(nobs, dtype='float32')\n",
    "    for j in range(nobs):   \n",
    "        x, y = xx[j], yy[j] \n",
    "        x = x*2 - ( y * 55 )\n",
    "        y = x + y*2         \n",
    "        z = x + y + 99      \n",
    "        z = z * ( z - .88 ) \n",
    "        zz[j] = z           \n",
    "    return zz"
   ]
  },
  {
   "cell_type": "code",
   "execution_count": 21,
   "metadata": {
    "id": "II3Bp8UodQMg"
   },
   "outputs": [],
   "source": [
    "nobs = 10000\n",
    "#retorno uma amostra da distribuição \"normal padrão\" em (float32)\n",
    "x = np.random.randn(nobs).astype('float32')\n",
    "y = np.random.randn(nobs).astype('float32')"
   ]
  },
  {
   "cell_type": "code",
   "execution_count": 22,
   "metadata": {
    "colab": {
     "base_uri": "https://localhost:8080/"
    },
    "executionInfo": {
     "elapsed": 13311,
     "status": "ok",
     "timestamp": 1620455536050,
     "user": {
      "displayName": "Marcelo Filho",
      "photoUrl": "",
      "userId": "15483881631954904685"
     },
     "user_tz": 180
    },
    "id": "ToBCFHnQdU8X",
    "outputId": "bdea81a2-f17f-436a-a979-10267aa91fa2"
   },
   "outputs": [
    {
     "name": "stdout",
     "output_type": "stream",
     "text": [
      "88.7 ms ± 726 µs per loop (mean ± std. dev. of 7 runs, 10 loops each)\n"
     ]
    }
   ],
   "source": [
    "%timeit proc_python(x,y)"
   ]
  },
  {
   "cell_type": "code",
   "execution_count": 23,
   "metadata": {
    "id": "7Z5NVeSHdX5f"
   },
   "outputs": [],
   "source": [
    "def proc_numpy(x,y):\n",
    "    z = np.zeros(nobs, dtype='float32')\n",
    "    x = x*2 - ( y * 55 )\n",
    "    y = x + y*2         \n",
    "    z = x + y + 99      \n",
    "    z = z * ( z - .88 ) \n",
    "    return z"
   ]
  },
  {
   "cell_type": "code",
   "execution_count": 24,
   "metadata": {
    "colab": {
     "base_uri": "https://localhost:8080/"
    },
    "executionInfo": {
     "elapsed": 13306,
     "status": "ok",
     "timestamp": 1620455536055,
     "user": {
      "displayName": "Marcelo Filho",
      "photoUrl": "",
      "userId": "15483881631954904685"
     },
     "user_tz": 180
    },
    "id": "CgZeH07_dZ6t",
    "outputId": "4eb38c93-d0a5-42bb-a33f-581298481f9d"
   },
   "outputs": [
    {
     "data": {
      "text/plain": [
       "True"
      ]
     },
     "execution_count": 24,
     "metadata": {},
     "output_type": "execute_result"
    }
   ],
   "source": [
    "#retorna true se duas matrizes sao iguais em termos de elemento dentro de uma tolerancia.\n",
    "np.allclose( proc_numpy(x,y), proc_python(x,y), atol=1e-4 )"
   ]
  },
  {
   "cell_type": "code",
   "execution_count": 25,
   "metadata": {
    "colab": {
     "base_uri": "https://localhost:8080/"
    },
    "executionInfo": {
     "elapsed": 15189,
     "status": "ok",
     "timestamp": 1620455537947,
     "user": {
      "displayName": "Marcelo Filho",
      "photoUrl": "",
      "userId": "15483881631954904685"
     },
     "user_tz": 180
    },
    "id": "QX_rVIEedcnV",
    "outputId": "0ba7344c-eb0a-4ca9-a9c7-8ac44c626a9c"
   },
   "outputs": [
    {
     "name": "stdout",
     "output_type": "stream",
     "text": [
      "28 µs ± 837 ns per loop (mean ± std. dev. of 7 runs, 10000 loops each)\n"
     ]
    }
   ],
   "source": [
    "%timeit proc_numpy(x,y)"
   ]
  },
  {
   "cell_type": "markdown",
   "metadata": {
    "id": "doZPsLSZosH5"
   },
   "source": [
    "O numba é projetado para ser usado com matrizes e funções NumPy. Gera códigos especializados para diferentes tipos de dados de array afim de otimizar o desempenho."
   ]
  },
  {
   "cell_type": "code",
   "execution_count": 26,
   "metadata": {
    "id": "MEExe1Ctdi7a"
   },
   "outputs": [],
   "source": [
    "@jit()\n",
    "def proc_numba(xx,yy,zz):\n",
    "    for j in range(nobs):   \n",
    "        x, y = xx[j], yy[j] \n",
    "        x = x*2 - ( y * 55 )\n",
    "        y = x + y*2         \n",
    "        z = x + y + 99      \n",
    "        z = z * ( z - .88 ) \n",
    "        zz[j] = z           \n",
    "    return zz"
   ]
  },
  {
   "cell_type": "code",
   "execution_count": 27,
   "metadata": {
    "colab": {
     "base_uri": "https://localhost:8080/"
    },
    "executionInfo": {
     "elapsed": 15744,
     "status": "ok",
     "timestamp": 1620455538512,
     "user": {
      "displayName": "Marcelo Filho",
      "photoUrl": "",
      "userId": "15483881631954904685"
     },
     "user_tz": 180
    },
    "id": "9KEzSCCmdlFX",
    "outputId": "de1469b2-5df4-452f-f4f8-c7c604de2c4b"
   },
   "outputs": [
    {
     "data": {
      "text/plain": [
       "True"
      ]
     },
     "execution_count": 27,
     "metadata": {},
     "output_type": "execute_result"
    }
   ],
   "source": [
    "z = np.zeros(nobs).astype('float32')\n",
    "np.allclose( proc_numpy(x,y), proc_numba(x,y,z), atol=1e-4 )"
   ]
  },
  {
   "cell_type": "code",
   "execution_count": 28,
   "metadata": {
    "colab": {
     "base_uri": "https://localhost:8080/"
    },
    "executionInfo": {
     "elapsed": 21069,
     "status": "ok",
     "timestamp": 1620455543845,
     "user": {
      "displayName": "Marcelo Filho",
      "photoUrl": "",
      "userId": "15483881631954904685"
     },
     "user_tz": 180
    },
    "id": "WjdmklOFdm_W",
    "outputId": "e52a2335-687a-4f4e-8f3a-8929ec0e6d72"
   },
   "outputs": [
    {
     "name": "stdout",
     "output_type": "stream",
     "text": [
      "20.8 µs ± 611 ns per loop (mean ± std. dev. of 7 runs, 10000 loops each)\n"
     ]
    }
   ],
   "source": [
    "%timeit proc_numba(x,y,z)"
   ]
  },
  {
   "cell_type": "code",
   "execution_count": 29,
   "metadata": {
    "id": "u1rUEuLzdpBK"
   },
   "outputs": [],
   "source": [
    "#decodificador de vetorização do Numba\n",
    "@vectorize\n",
    "def vec_numba(x,y):\n",
    "    x = x*2 - ( y * 55 )\n",
    "    y = x + y*2         \n",
    "    z = x + y + 99      \n",
    "    return z * ( z - .88 )"
   ]
  },
  {
   "cell_type": "code",
   "execution_count": 30,
   "metadata": {
    "colab": {
     "base_uri": "https://localhost:8080/"
    },
    "executionInfo": {
     "elapsed": 21062,
     "status": "ok",
     "timestamp": 1620455543847,
     "user": {
      "displayName": "Marcelo Filho",
      "photoUrl": "",
      "userId": "15483881631954904685"
     },
     "user_tz": 180
    },
    "id": "9Gvf_nPRdrdO",
    "outputId": "9aa7dc71-be0e-47e6-9eed-83fd43a5286c"
   },
   "outputs": [
    {
     "data": {
      "text/plain": [
       "True"
      ]
     },
     "execution_count": 30,
     "metadata": {},
     "output_type": "execute_result"
    }
   ],
   "source": [
    "np.allclose(vec_numba(x,y), proc_numba(x,y,z), atol=1e-4 )"
   ]
  },
  {
   "cell_type": "code",
   "execution_count": 31,
   "metadata": {
    "colab": {
     "base_uri": "https://localhost:8080/"
    },
    "executionInfo": {
     "elapsed": 25643,
     "status": "ok",
     "timestamp": 1620455548436,
     "user": {
      "displayName": "Marcelo Filho",
      "photoUrl": "",
      "userId": "15483881631954904685"
     },
     "user_tz": 180
    },
    "id": "sgTTrbppdt6c",
    "outputId": "69d6ad39-b8c0-4f47-c161-6372c7bca8a3"
   },
   "outputs": [
    {
     "name": "stdout",
     "output_type": "stream",
     "text": [
      "7.96 µs ± 136 ns per loop (mean ± std. dev. of 7 runs, 100000 loops each)\n"
     ]
    }
   ],
   "source": [
    "%timeit vec_numba(x,y)"
   ]
  },
  {
   "cell_type": "code",
   "execution_count": 32,
   "metadata": {
    "id": "R8K12rJPdwN4"
   },
   "outputs": [],
   "source": [
    "# Funções polinomiais com Numba\n",
    "\n",
    "@jit(nopython=True)\n",
    "def vec_poly(x, res):\n",
    "    m,n=x.shape\n",
    "    feat_idx=0\n",
    "    for i in range(n):\n",
    "        v1=x[:,i]\n",
    "        for k in range(m): res[k,feat_idx] = v1[k]\n",
    "        feat_idx+=1\n",
    "        for j in range(i,n):\n",
    "            for k in range(m): res[k,feat_idx] = v1[k]*x[k,j]\n",
    "            feat_idx+=1"
   ]
  },
  {
   "cell_type": "code",
   "execution_count": 33,
   "metadata": {
    "id": "sTR4sU7udycS"
   },
   "outputs": [],
   "source": [
    "#dividindo em treino e teste\n",
    "trn = np.asfortranarray(trn)\n",
    "test = np.asfortranarray(test)"
   ]
  },
  {
   "cell_type": "code",
   "execution_count": 34,
   "metadata": {
    "id": "48dlMR2Ld0uu"
   },
   "outputs": [],
   "source": [
    "m,n=trn.shape\n",
    "n_feat = n*(n+1)//2 + n\n",
    "trn_feat = np.zeros((m,n_feat), order='F')#features de treino\n",
    "test_feat = np.zeros((len(y_test), n_feat), order='F')#features de teste"
   ]
  },
  {
   "cell_type": "code",
   "execution_count": 35,
   "metadata": {
    "id": "QP9Gfje2d23F"
   },
   "outputs": [],
   "source": [
    "vec_poly(trn, trn_feat)\n",
    "vec_poly(test, test_feat)"
   ]
  },
  {
   "cell_type": "code",
   "execution_count": 36,
   "metadata": {
    "colab": {
     "base_uri": "https://localhost:8080/"
    },
    "executionInfo": {
     "elapsed": 26112,
     "status": "ok",
     "timestamp": 1620455548919,
     "user": {
      "displayName": "Marcelo Filho",
      "photoUrl": "",
      "userId": "15483881631954904685"
     },
     "user_tz": 180
    },
    "id": "4Z35ushSd7xz",
    "outputId": "33cd3eb0-b6cb-4770-f0d0-721e43f1db8b"
   },
   "outputs": [
    {
     "data": {
      "text/plain": [
       "LinearRegression()"
      ]
     },
     "execution_count": 36,
     "metadata": {},
     "output_type": "execute_result"
    }
   ],
   "source": [
    "regr.fit(trn_feat, y_trn)"
   ]
  },
  {
   "cell_type": "code",
   "execution_count": 37,
   "metadata": {
    "colab": {
     "base_uri": "https://localhost:8080/"
    },
    "executionInfo": {
     "elapsed": 26104,
     "status": "ok",
     "timestamp": 1620455548920,
     "user": {
      "displayName": "Marcelo Filho",
      "photoUrl": "",
      "userId": "15483881631954904685"
     },
     "user_tz": 180
    },
    "id": "Ny-NpIgAe_zO",
    "outputId": "979ec11e-88dc-4a66-80ae-d0ed97069b8e"
   },
   "outputs": [
    {
     "data": {
      "text/plain": [
       "(53.87128883180737, 41.62646848183122)"
      ]
     },
     "execution_count": 37,
     "metadata": {},
     "output_type": "execute_result"
    }
   ],
   "source": [
    "regr_metrics(y_test, regr.predict(test_feat))"
   ]
  },
  {
   "cell_type": "code",
   "execution_count": 38,
   "metadata": {
    "colab": {
     "base_uri": "https://localhost:8080/"
    },
    "executionInfo": {
     "elapsed": 30898,
     "status": "ok",
     "timestamp": 1620455553721,
     "user": {
      "displayName": "Marcelo Filho",
      "photoUrl": "",
      "userId": "15483881631954904685"
     },
     "user_tz": 180
    },
    "id": "mL9rHS8KfByj",
    "outputId": "0487e051-106a-4932-a7da-d38ab2516123"
   },
   "outputs": [
    {
     "name": "stdout",
     "output_type": "stream",
     "text": [
      "6.78 µs ± 194 ns per loop (mean ± std. dev. of 7 runs, 100000 loops each)\n"
     ]
    }
   ],
   "source": [
    "%timeit vec_poly(trn, trn_feat)"
   ]
  },
  {
   "cell_type": "code",
   "execution_count": 39,
   "metadata": {
    "colab": {
     "base_uri": "https://localhost:8080/"
    },
    "executionInfo": {
     "elapsed": 32555,
     "status": "ok",
     "timestamp": 1620455555386,
     "user": {
      "displayName": "Marcelo Filho",
      "photoUrl": "",
      "userId": "15483881631954904685"
     },
     "user_tz": 180
    },
    "id": "JKTZJJsUfEsb",
    "outputId": "b23c2a3c-98a0-48f8-c707-567053c3cb8b"
   },
   "outputs": [
    {
     "name": "stdout",
     "output_type": "stream",
     "text": [
      "241 µs ± 8.23 µs per loop (mean ± std. dev. of 7 runs, 1000 loops each)\n"
     ]
    }
   ],
   "source": [
    "%timeit poly.fit_transform(trn) #ajustar os dados e transforma-los"
   ]
  },
  {
   "cell_type": "markdown",
   "metadata": {
    "id": "BE5WDdWMfatD"
   },
   "source": [
    "##### **Regularização e ruído**"
   ]
  },
  {
   "cell_type": "markdown",
   "metadata": {
    "id": "kh2cDVDzfTey"
   },
   "source": [
    "A regularização é uma maneira de reduzir o excesso de ajuste e criar modelos que generalizem melhor para novos dados."
   ]
  },
  {
   "cell_type": "code",
   "execution_count": 40,
   "metadata": {
    "id": "xxg3KhwJfw4R"
   },
   "outputs": [],
   "source": [
    "reg_regr = linear_model.LassoCV(n_alphas=10) #modelo linear de laco com ajuste iterativo ao longo de um caminho de regularizacao."
   ]
  },
  {
   "cell_type": "code",
   "execution_count": 41,
   "metadata": {
    "colab": {
     "base_uri": "https://localhost:8080/"
    },
    "executionInfo": {
     "elapsed": 32544,
     "status": "ok",
     "timestamp": 1620455555387,
     "user": {
      "displayName": "Marcelo Filho",
      "photoUrl": "",
      "userId": "15483881631954904685"
     },
     "user_tz": 180
    },
    "id": "6t7s9JLVfymL",
    "outputId": "b7dba568-de50-4c7a-c1b4-13b2510e82d6"
   },
   "outputs": [
    {
     "name": "stderr",
     "output_type": "stream",
     "text": [
      "C:\\Users\\phenr\\anaconda3\\lib\\site-packages\\sklearn\\linear_model\\_coordinate_descent.py:526: ConvergenceWarning: Objective did not converge. You might want to increase the number of iterations. Duality gap: 15783.661531877238, tolerance: 173.51106996466436\n",
      "  model = cd_fast.enet_coordinate_descent_gram(\n"
     ]
    },
    {
     "data": {
      "text/plain": [
       "LassoCV(n_alphas=10)"
      ]
     },
     "execution_count": 41,
     "metadata": {},
     "output_type": "execute_result"
    }
   ],
   "source": [
    "reg_regr.fit(trn_feat, y_trn)"
   ]
  },
  {
   "cell_type": "code",
   "execution_count": 42,
   "metadata": {
    "colab": {
     "base_uri": "https://localhost:8080/"
    },
    "executionInfo": {
     "elapsed": 32534,
     "status": "ok",
     "timestamp": 1620455555387,
     "user": {
      "displayName": "Marcelo Filho",
      "photoUrl": "",
      "userId": "15483881631954904685"
     },
     "user_tz": 180
    },
    "id": "cMyq06Qbf08z",
    "outputId": "637a6b0c-ba8f-459b-897c-af531348d8bc"
   },
   "outputs": [
    {
     "data": {
      "text/plain": [
       "0.010312773107565636"
      ]
     },
     "execution_count": 42,
     "metadata": {},
     "output_type": "execute_result"
    }
   ],
   "source": [
    "reg_regr.alpha_  #valor dos alfas ao longo do caminho de regularização."
   ]
  },
  {
   "cell_type": "code",
   "execution_count": 43,
   "metadata": {
    "colab": {
     "base_uri": "https://localhost:8080/"
    },
    "executionInfo": {
     "elapsed": 32526,
     "status": "ok",
     "timestamp": 1620455555387,
     "user": {
      "displayName": "Marcelo Filho",
      "photoUrl": "",
      "userId": "15483881631954904685"
     },
     "user_tz": 180
    },
    "id": "6L6UUFpzf2lR",
    "outputId": "2703b31b-96f4-437e-d431-404bc99ce761"
   },
   "outputs": [
    {
     "data": {
      "text/plain": [
       "(47.27045985070561, 37.417096083040434)"
      ]
     },
     "execution_count": 43,
     "metadata": {},
     "output_type": "execute_result"
    }
   ],
   "source": [
    "regr_metrics(y_test, reg_regr.predict(test_feat))"
   ]
  },
  {
   "cell_type": "markdown",
   "metadata": {
    "id": "cSCSR2Jsf5eT"
   },
   "source": [
    "##### **Ruído**"
   ]
  },
  {
   "cell_type": "markdown",
   "metadata": {
    "id": "E02BS1eWf_vt"
   },
   "source": [
    "Agora vamos adicionar algum ruído aos dados"
   ]
  },
  {
   "cell_type": "code",
   "execution_count": 44,
   "metadata": {
    "id": "ASD4JdsGf7hO"
   },
   "outputs": [],
   "source": [
    "idxs = np.random.randint(0, len(trn), 10) #retornando numeros aleatorios"
   ]
  },
  {
   "cell_type": "code",
   "execution_count": 45,
   "metadata": {
    "id": "5q5mYy-ZgBhb"
   },
   "outputs": [],
   "source": [
    "y_trn2 = np.copy(y_trn)\n",
    "y_trn2[idxs] *= 10 # label noise"
   ]
  },
  {
   "cell_type": "code",
   "execution_count": 46,
   "metadata": {
    "colab": {
     "base_uri": "https://localhost:8080/"
    },
    "executionInfo": {
     "elapsed": 32517,
     "status": "ok",
     "timestamp": 1620455555389,
     "user": {
      "displayName": "Marcelo Filho",
      "photoUrl": "",
      "userId": "15483881631954904685"
     },
     "user_tz": 180
    },
    "id": "EIYbRCY4gDbc",
    "outputId": "974f4fe6-605b-4b4b-d73c-e84f2efde36e"
   },
   "outputs": [
    {
     "data": {
      "text/plain": [
       "(47.950339619338905, 38.197638602170876)"
      ]
     },
     "execution_count": 46,
     "metadata": {},
     "output_type": "execute_result"
    }
   ],
   "source": [
    "regr = linear_model.LinearRegression()\n",
    "regr.fit(trn, y_trn)\n",
    "regr_metrics(y_test, regr.predict(test))"
   ]
  },
  {
   "cell_type": "code",
   "execution_count": 47,
   "metadata": {
    "colab": {
     "base_uri": "https://localhost:8080/"
    },
    "executionInfo": {
     "elapsed": 32509,
     "status": "ok",
     "timestamp": 1620455555389,
     "user": {
      "displayName": "Marcelo Filho",
      "photoUrl": "",
      "userId": "15483881631954904685"
     },
     "user_tz": 180
    },
    "id": "LL0YafrdgIDa",
    "outputId": "f5665c16-94d4-4039-9f5e-52d26681b1fd"
   },
   "outputs": [
    {
     "data": {
      "text/plain": [
       "(55.72435442057439, 43.06887548761054)"
      ]
     },
     "execution_count": 47,
     "metadata": {},
     "output_type": "execute_result"
    }
   ],
   "source": [
    "regr.fit(trn, y_trn2)\n",
    "regr_metrics(y_test, regr.predict(test))"
   ]
  },
  {
   "cell_type": "code",
   "execution_count": 48,
   "metadata": {
    "colab": {
     "base_uri": "https://localhost:8080/"
    },
    "executionInfo": {
     "elapsed": 32502,
     "status": "ok",
     "timestamp": 1620455555390,
     "user": {
      "displayName": "Marcelo Filho",
      "photoUrl": "",
      "userId": "15483881631954904685"
     },
     "user_tz": 180
    },
    "id": "oQ-neb7sgJuY",
    "outputId": "e607101f-605d-45b1-8f37-7357caba6c86"
   },
   "outputs": [
    {
     "name": "stderr",
     "output_type": "stream",
     "text": [
      "C:\\Users\\phenr\\anaconda3\\lib\\site-packages\\sklearn\\linear_model\\_huber.py:296: ConvergenceWarning: lbfgs failed to converge (status=1):\n",
      "STOP: TOTAL NO. of ITERATIONS REACHED LIMIT.\n",
      "\n",
      "Increase the number of iterations (max_iter) or scale the data as shown in:\n",
      "    https://scikit-learn.org/stable/modules/preprocessing.html\n",
      "  self.n_iter_ = _check_optimize_result(\"lbfgs\", opt_res, self.max_iter)\n"
     ]
    },
    {
     "data": {
      "text/plain": [
       "(47.37403604174274, 37.47553298393954)"
      ]
     },
     "execution_count": 48,
     "metadata": {},
     "output_type": "execute_result"
    }
   ],
   "source": [
    "hregr = linear_model.HuberRegressor()\n",
    "hregr.fit(trn, y_trn2)\n",
    "regr_metrics(y_test, hregr.predict(test))"
   ]
  }
 ],
 "metadata": {
  "colab": {
   "name": "Predição de dados de saúde usando regressão linear.ipynb",
   "provenance": []
  },
  "kernelspec": {
   "display_name": "Python 3",
   "language": "python",
   "name": "python3"
  },
  "language_info": {
   "codemirror_mode": {
    "name": "ipython",
    "version": 3
   },
   "file_extension": ".py",
   "mimetype": "text/x-python",
   "name": "python",
   "nbconvert_exporter": "python",
   "pygments_lexer": "ipython3",
   "version": "3.8.8"
  }
 },
 "nbformat": 4,
 "nbformat_minor": 1
}
